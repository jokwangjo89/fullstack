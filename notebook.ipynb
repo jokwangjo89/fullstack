{
 "cells": [
  {
   "cell_type": "code",
   "execution_count": 16,
   "metadata": {},
   "outputs": [
    {
     "data": {
      "text/plain": [
       "'The distance between Mexico and Thailand is approximately 9,500 miles (15,300 kilometers) when measured in a straight line.'"
      ]
     },
     "execution_count": 16,
     "metadata": {},
     "output_type": "execute_result"
    }
   ],
   "source": [
    "from langchain.chat_models import ChatOpenAI\n",
    "from langchain.prompts import PromptTemplate, ChatPromptTemplate\n",
    "\n",
    "template = PromptTemplate.from_template(\"What is the distance between {country_a} and {country_b}\")\n",
    "\n",
    "prompt= template.format(country_a=\"Mexico\", country_b = \"Thailand\")\n",
    "\n",
    "chat = ChatOpenAI(\n",
    "    model=\"gpt-3.5-turbo\",\n",
    "    #창의성 수치\n",
    "    temperature=0.1\n",
    "    )\n",
    "\n",
    "chat.predict(prompt)\n",
    "\n"
   ]
  },
  {
   "cell_type": "code",
   "execution_count": 17,
   "metadata": {},
   "outputs": [
    {
     "data": {
      "text/plain": [
       "AIMessage(content='Γεια σας! Η απόσταση μεταξύ του Μεξικού και της Ταϊλάνδης είναι περίπου 16.000 χιλιόμετρα. Το όνομά μου είναι Σωκράτης. Πώς μπορώ να βοηθήσω;')"
      ]
     },
     "execution_count": 17,
     "metadata": {},
     "output_type": "execute_result"
    }
   ],
   "source": [
    "from langchain.schema import HumanMessage, AIMessage, SystemMessage\n",
    "\n",
    "template = ChatPromptTemplate.from_messages(\n",
    "    [\n",
    "    (\n",
    "        \"system\",\"You are a geography expert, And you only reply in {language}.\"\n",
    "    ),\n",
    "    (\n",
    "        \"ai\",\"Ciao, mi chiamo {name}!\"\n",
    "    ),\n",
    "    (\n",
    "        \"human\",\"WhaT is the distance between {country_a} and {country_b}. Also, what is your name?\"\n",
    "    )\n",
    "    ]\n",
    ")\n",
    "\n",
    "\n",
    "prompt=template.format_messages(\n",
    "    language = \"Greek\",\n",
    "    name = \"Socrates\",\n",
    "    country_a= \"Mexico\",\n",
    "    country_b =\"Thailand\",\n",
    ")\n",
    "\n",
    "chat.predict_messages(prompt)"
   ]
  },
  {
   "cell_type": "code",
   "execution_count": 18,
   "metadata": {},
   "outputs": [],
   "source": [
    "from langchain.chat_models import ChatOpenAI\n",
    "chat = ChatOpenAI(\n",
    "    model=\"gpt-3.5-turbo\",\n",
    "    #창의성 수치\n",
    "    temperature=0.1\n",
    "    )"
   ]
  },
  {
   "cell_type": "code",
   "execution_count": 19,
   "metadata": {},
   "outputs": [
    {
     "data": {
      "text/plain": [
       "['Hello', 'how', 'are', 'you']"
      ]
     },
     "execution_count": 19,
     "metadata": {},
     "output_type": "execute_result"
    }
   ],
   "source": [
    "from langchain.schema import BaseOutputParser\n",
    "\n",
    "class CommaOutputParser(BaseOutputParser):\n",
    "\n",
    "    def parse(self, text):\n",
    "        items = text.strip().split(\",\")\n",
    "        return list(map(str.strip,items))\n",
    "    \n",
    "p= CommaOutputParser()\n",
    "\n",
    "p.parse(\"Hello,how,are,you\")"
   ]
  },
  {
   "cell_type": "code",
   "execution_count": 20,
   "metadata": {},
   "outputs": [
    {
     "data": {
      "text/plain": [
       "['pikachu', 'charmander', 'bulbasaur', 'squirtle', 'jigglypuff']"
      ]
     },
     "execution_count": 20,
     "metadata": {},
     "output_type": "execute_result"
    }
   ],
   "source": [
    "\n",
    "\n",
    "from langchain.prompts import PromptTemplate, ChatPromptTemplate\n",
    "template= ChatPromptTemplate.from_messages([\n",
    "    (\"system\",\"You are a list generating machine. Everythong you are asked will be answered with a comma separated list of max {max_items} in lowercase. Do NOT reply with anything else.\"),\n",
    "    (\"human\",\"{question}\"),\n",
    "])\n",
    "\n",
    "chain = template | chat | CommaOutputParser()\n",
    "\n",
    "\n",
    "chain.invoke({\n",
    "    \"max_items\":5,\n",
    "    \"question\": \"what are the pokemos?\"\n",
    "})\n",
    "\n"
   ]
  },
  {
   "cell_type": "markdown",
   "metadata": {},
   "source": [
    "lang chain!!!"
   ]
  },
  {
   "cell_type": "markdown",
   "metadata": {},
   "source": []
  },
  {
   "cell_type": "code",
   "execution_count": 21,
   "metadata": {},
   "outputs": [],
   "source": [
    "from langchain.chat_models import ChatOpenAI\n",
    "from langchain.prompts import PromptTemplate, ChatPromptTemplate\n",
    "\n",
    "chat = ChatOpenAI(\n",
    "    model=\"gpt-3.5-turbo\",\n",
    "    # 창의성 수치\n",
    "    temperature=0.1,\n",
    ")\n",
    "\n",
    "chef_prompt = ChatPromptTemplate.from_messages(\n",
    "    [\n",
    "        (\"system\", \"You are a world-class international chef. You create easy to follow recipies for any type of cuisine with easy to find ingredients.\"),\n",
    "        (\"human\", \"I want to cook {cuisine} food.\"),\n",
    "        ]\n",
    ")\n",
    "\n",
    "chef_chain = chef_prompt | chat"
   ]
  },
  {
   "cell_type": "code",
   "execution_count": 24,
   "metadata": {},
   "outputs": [
    {
     "name": "stdout",
     "output_type": "stream",
     "text": [
      "To make this Chicken Tikka Masala recipe vegetarian, we can substitute the chicken with a plant-based alternative such as tofu or paneer. Here's how you can prepare the tofu or paneer as a replacement for the chicken:\n",
      "\n",
      "For Tofu:\n",
      "1. Use extra-firm tofu and press it to remove excess water. You can do this by wrapping the tofu block in a clean kitchen towel and placing a heavy object on top for about 15-20 minutes.\n",
      "2. Cut the tofu into bite-sized cubes and follow the marinade instructions in the recipe. Tofu absorbs flavors well, so marinating it for a longer time will enhance the taste.\n",
      "\n",
      "For Paneer:\n",
      "1. Paneer is a type of Indian cheese that holds its shape well when cooked. You can either make your own paneer at home or buy it from the store.\n",
      "2. Cut the paneer into bite-sized cubes and follow the marinade instructions in the recipe. Paneer doesn't need as much marinating time as tofu, so 30 minutes should be sufficient.\n",
      "\n",
      "Follow the rest of the recipe as it is, substituting the marinated tofu or paneer for the chicken. The cooking times may vary slightly, so keep an eye on the tofu or paneer to ensure they are cooked through and have absorbed the flavors of the sauce.\n",
      "\n",
      "Enjoy your Vegetarian Tikka Masala with tofu or paneer as a delicious meat-free alternative!\n"
     ]
    }
   ],
   "source": [
    "veg_chef_prompt = ChatPromptTemplate.from_messages(\n",
    "    [\n",
    "        (\n",
    "            \"system\",\n",
    "            \"You are a vegetarian chef specialized on making traditional recipes vegetarian. You find alternative ingredients and explain their preparation. You don't radically modify the recipe. If there is no alternative for a food just say you don't know how to recipe it.\",\n",
    "        ),\n",
    "        (\"human\", \"{recipe}\"),\n",
    "    ]\n",
    ")\n",
    "\n",
    "\n",
    "veg_chain = veg_chef_prompt | chat\n",
    "final_chain = chef_chain | veg_chain\n",
    "\n",
    "veg_chain = veg_chef_prompt | chat\n",
    "\n",
    "# 처리 흐름\n",
    "cuisine_input = {\"cuisine\": \"indian\"}  # 요리 종류 입력\n",
    "\n",
    "# Step 1: Chef Chain 실행\n",
    "chef_result = chef_chain.invoke(cuisine_input)\n",
    "\n",
    "# Step 2: Chef Chain 결과 확인 및 변환\n",
    "if isinstance(chef_result, AIMessage):\n",
    "    recipe = chef_result.content  # 텍스트 내용 추출\n",
    "else:\n",
    "    recipe = chef_result  # 다른 형식 처리\n",
    "\n",
    "# Step 3: Veg Chain 실행\n",
    "veg_result = veg_chain.invoke({\"recipe\": recipe})\n",
    "\n",
    "# 결과 출력\n",
    "if isinstance(veg_result, AIMessage):\n",
    "    print(veg_result.content)  # 최종 결과 출력\n",
    "else:\n",
    "    print(veg_result)"
   ]
  },
  {
   "cell_type": "code",
   "execution_count": null,
   "metadata": {},
   "outputs": [],
   "source": []
  }
 ],
 "metadata": {
  "kernelspec": {
   "display_name": "env",
   "language": "python",
   "name": "python3"
  },
  "language_info": {
   "codemirror_mode": {
    "name": "ipython",
    "version": 3
   },
   "file_extension": ".py",
   "mimetype": "text/x-python",
   "name": "python",
   "nbconvert_exporter": "python",
   "pygments_lexer": "ipython3",
   "version": "3.11.0rc1"
  }
 },
 "nbformat": 4,
 "nbformat_minor": 2
}
